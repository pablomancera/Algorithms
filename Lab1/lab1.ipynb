{
  "nbformat": 4,
  "nbformat_minor": 0,
  "metadata": {
    "colab": {
      "name": "lab1.ipynb",
      "provenance": [],
      "toc_visible": true,
      "collapsed_sections": [
        "UWUorxCLZGXs",
        "4x63hdD8an7g",
        "cbQq4f40d30_"
      ],
      "authorship_tag": "ABX9TyOnOA2YcTlEvdKSW/QZ0r2J",
      "include_colab_link": true
    },
    "kernelspec": {
      "name": "python3",
      "display_name": "Python 3"
    },
    "language_info": {
      "name": "python"
    }
  },
  "cells": [
    {
      "cell_type": "markdown",
      "metadata": {
        "id": "view-in-github",
        "colab_type": "text"
      },
      "source": [
        "<a href=\"https://colab.research.google.com/github/pablomancera/Algorithms/blob/main/Lab1/lab1.ipynb\" target=\"_parent\"><img src=\"https://colab.research.google.com/assets/colab-badge.svg\" alt=\"Open In Colab\"/></a>"
      ]
    },
    {
      "cell_type": "markdown",
      "source": [
        "# 01 Data Types and Data Structures"
      ],
      "metadata": {
        "id": "U_kBzogZdNOQ"
      }
    },
    {
      "cell_type": "markdown",
      "source": [
        "## Introduction"
      ],
      "metadata": {
        "id": "5tQsxidifsJ8"
      }
    },
    {
      "cell_type": "markdown",
      "source": [
        "### Basic Variable Types"
      ],
      "metadata": {
        "id": "SVCVKpCXftxn"
      }
    },
    {
      "cell_type": "code",
      "source": [
        "s1 = 'Ciencias'\n",
        "s2 = \" de la \"\n",
        "s3 = 'computación'\n",
        "print(s1 + s2 + s3)"
      ],
      "metadata": {
        "colab": {
          "base_uri": "https://localhost:8080/"
        },
        "id": "folyDH72eAou",
        "outputId": "5d126121-e80e-4564-e62c-b11cfbc8c9b6"
      },
      "execution_count": null,
      "outputs": [
        {
          "output_type": "stream",
          "name": "stdout",
          "text": [
            "Ciencias de la computación\n"
          ]
        }
      ]
    },
    {
      "cell_type": "code",
      "source": [
        "group = 2\n",
        "print(group)\n",
        "print(type(group))"
      ],
      "metadata": {
        "colab": {
          "base_uri": "https://localhost:8080/"
        },
        "id": "3SQntlVOhUs-",
        "outputId": "b44dae2b-dbea-4829-beea-0f8866b21b09"
      },
      "execution_count": null,
      "outputs": [
        {
          "output_type": "stream",
          "name": "stdout",
          "text": [
            "2\n",
            "<class 'int'>\n"
          ]
        }
      ]
    },
    {
      "cell_type": "code",
      "source": [
        "string = \"100\"\n",
        "print(type(string))\n",
        "integer = int(string)\n",
        "print(type(integer))"
      ],
      "metadata": {
        "colab": {
          "base_uri": "https://localhost:8080/"
        },
        "id": "6ShqpKsJlRsD",
        "outputId": "003ed688-9d13-434f-e07e-1b277df28b35"
      },
      "execution_count": null,
      "outputs": [
        {
          "output_type": "stream",
          "name": "stdout",
          "text": [
            "<class 'str'>\n",
            "<class 'int'>\n"
          ]
        }
      ]
    },
    {
      "cell_type": "code",
      "source": [
        "string = \"100\"\n",
        "decimal = float(string)\n",
        "print(type(decimal))"
      ],
      "metadata": {
        "colab": {
          "base_uri": "https://localhost:8080/"
        },
        "id": "C_Pq6bf2moIb",
        "outputId": "e4bc88d2-6713-4713-cb90-66f06528c91c"
      },
      "execution_count": null,
      "outputs": [
        {
          "output_type": "stream",
          "name": "stdout",
          "text": [
            "<class 'float'>\n"
          ]
        }
      ]
    },
    {
      "cell_type": "code",
      "source": [
        "boolean = False\n",
        "print(boolean)\n",
        "print(type(boolean))"
      ],
      "metadata": {
        "colab": {
          "base_uri": "https://localhost:8080/"
        },
        "id": "nDNZLrSaqZUx",
        "outputId": "78edb5f8-abfa-4077-c935-00ff20d36800"
      },
      "execution_count": null,
      "outputs": [
        {
          "output_type": "stream",
          "name": "stdout",
          "text": [
            "False\n",
            "<class 'bool'>\n"
          ]
        }
      ]
    },
    {
      "cell_type": "markdown",
      "source": [
        "### Basic Math Operations"
      ],
      "metadata": {
        "id": "hxsq7WinMee8"
      }
    },
    {
      "cell_type": "code",
      "source": [
        "print(\"Adición \", 2+2)\n",
        "print(\"Sustracción \", 5-2)\n",
        "print(\"Multiplicación \", 2*3)\n",
        "print(\"División \", 6/2)\n",
        "print('Exponente', 2**32)"
      ],
      "metadata": {
        "colab": {
          "base_uri": "https://localhost:8080/"
        },
        "id": "BX1-FoKhMNRN",
        "outputId": "acb1ba79-53ce-4f88-8cdc-f567d3b7dceb"
      },
      "execution_count": null,
      "outputs": [
        {
          "output_type": "stream",
          "name": "stdout",
          "text": [
            "Adición  4\n",
            "Sustracción  3\n",
            "Multiplicación  6\n",
            "División  3.0\n",
            "Exponente 4294967296\n"
          ]
        }
      ]
    },
    {
      "cell_type": "code",
      "source": [
        "print(1/3)\n",
        "print(1.0/3)"
      ],
      "metadata": {
        "colab": {
          "base_uri": "https://localhost:8080/"
        },
        "id": "wjnA3j5FNE4E",
        "outputId": "7e3bed82-7d92-43e3-b54e-839c04fb9976"
      },
      "execution_count": null,
      "outputs": [
        {
          "output_type": "stream",
          "name": "stdout",
          "text": [
            "0.3333333333333333\n",
            "0.3333333333333333\n"
          ]
        }
      ]
    },
    {
      "cell_type": "markdown",
      "source": [
        "## Data Collections"
      ],
      "metadata": {
        "id": "eTFNiASBOxBj"
      }
    },
    {
      "cell_type": "markdown",
      "source": [
        "### List"
      ],
      "metadata": {
        "id": "9kC2eEr0ZCrF"
      }
    },
    {
      "cell_type": "code",
      "source": [
        "my_list = ['Ciencias ', 'de', 'la', 'Computación']\n",
        "print(my_list)"
      ],
      "metadata": {
        "colab": {
          "base_uri": "https://localhost:8080/"
        },
        "id": "Ja6kGKo1OzOi",
        "outputId": "064f3f9b-5b17-444d-eb91-6d4bcc9c648e"
      },
      "execution_count": null,
      "outputs": [
        {
          "output_type": "stream",
          "name": "stdout",
          "text": [
            "['Ciencias ', 'de', 'la', 'Computación']\n"
          ]
        }
      ]
    },
    {
      "cell_type": "code",
      "source": [
        "my_list = ['Ciencias ', 'de', 'la', 'Computación', 1,2,3]\n",
        "print(len(my_list))\n",
        "print(my_list[0])\n",
        "print(my_list[len(my_list) -1])"
      ],
      "metadata": {
        "colab": {
          "base_uri": "https://localhost:8080/"
        },
        "id": "rsx_tmUbQkcv",
        "outputId": "a9972a33-a613-4052-8370-8900ef3bd1e1"
      },
      "execution_count": null,
      "outputs": [
        {
          "output_type": "stream",
          "name": "stdout",
          "text": [
            "7\n",
            "Ciencias \n",
            "3\n"
          ]
        }
      ]
    },
    {
      "cell_type": "code",
      "source": [
        "my_list = ['Ciencias ', 'de', 'la', 'Computación', 1,2,3]\n",
        "my_list[3] = 'salud'\n",
        "print(my_list)"
      ],
      "metadata": {
        "colab": {
          "base_uri": "https://localhost:8080/"
        },
        "id": "mSMESM3ciZVK",
        "outputId": "f29d1c68-b465-453a-f268-3054e8018158"
      },
      "execution_count": null,
      "outputs": [
        {
          "output_type": "stream",
          "name": "stdout",
          "text": [
            "['Ciencias ', 'de', 'la', 'salud', 1, 2, 3]\n"
          ]
        }
      ]
    },
    {
      "cell_type": "code",
      "source": [
        "my_list = ['Ciencias ', 'de', 'la', 'Computación', 1,2,3]\n",
        "print(my_list[1:3])"
      ],
      "metadata": {
        "colab": {
          "base_uri": "https://localhost:8080/"
        },
        "id": "KzPfcGdhistN",
        "outputId": "48530cc1-e207-4460-d924-5a0697dce819"
      },
      "execution_count": null,
      "outputs": [
        {
          "output_type": "stream",
          "name": "stdout",
          "text": [
            "['de', 'la']\n"
          ]
        }
      ]
    },
    {
      "cell_type": "code",
      "source": [
        "print(my_list[3:])"
      ],
      "metadata": {
        "colab": {
          "base_uri": "https://localhost:8080/"
        },
        "id": "u0tyEZP1i4JJ",
        "outputId": "9b38ba71-32ec-4f40-9b38-18163a17ff50"
      },
      "execution_count": null,
      "outputs": [
        {
          "output_type": "stream",
          "name": "stdout",
          "text": [
            "[]\n"
          ]
        }
      ]
    },
    {
      "cell_type": "code",
      "source": [
        "print(my_list[:4])"
      ],
      "metadata": {
        "id": "GWWg1nBUjLv1",
        "outputId": "85417ce6-cd1e-4e0b-febc-632478f7d289",
        "colab": {
          "base_uri": "https://localhost:8080/"
        }
      },
      "execution_count": null,
      "outputs": [
        {
          "output_type": "stream",
          "name": "stdout",
          "text": [
            "['Hello', 'World', 'Hello']\n"
          ]
        }
      ]
    },
    {
      "cell_type": "code",
      "source": [
        "my_list = ['Hello', 'World']\n",
        "my_list.append('Hello')\n",
        "print(my_list)"
      ],
      "metadata": {
        "id": "Ws1e4UmiQW2Y",
        "outputId": "77dd7546-b589-42ce-ba7c-96707993d866",
        "colab": {
          "base_uri": "https://localhost:8080/"
        }
      },
      "execution_count": null,
      "outputs": [
        {
          "output_type": "stream",
          "name": "stdout",
          "text": [
            "['Hello', 'World', 'Hello']\n"
          ]
        }
      ]
    },
    {
      "cell_type": "code",
      "source": [
        "my_list.remove('Hello')\n",
        "print(my_list)"
      ],
      "metadata": {
        "colab": {
          "base_uri": "https://localhost:8080/"
        },
        "id": "c6e8Xa7qYnCs",
        "outputId": "24c23a3f-fdeb-491f-ec66-b4b707dd3727"
      },
      "execution_count": null,
      "outputs": [
        {
          "output_type": "stream",
          "name": "stdout",
          "text": [
            "['World', 'Hello']\n"
          ]
        }
      ]
    },
    {
      "cell_type": "markdown",
      "source": [
        "### Tuple"
      ],
      "metadata": {
        "id": "UWUorxCLZGXs"
      }
    },
    {
      "cell_type": "code",
      "source": [
        "my_tuple = (\"Ciencias\", \"de\", \"la\", \"computación\")"
      ],
      "metadata": {
        "id": "OWWf7qmhY9Z8"
      },
      "execution_count": null,
      "outputs": []
    },
    {
      "cell_type": "code",
      "source": [
        "my_tuple = (\"Ciencias\", \"de\", \"la\", \"computación\")\n",
        "print(my_tuple[1:])"
      ],
      "metadata": {
        "colab": {
          "base_uri": "https://localhost:8080/"
        },
        "id": "FAkmiN8VZaZx",
        "outputId": "ba5dbda9-b462-4ca3-f973-3520cc113938"
      },
      "execution_count": null,
      "outputs": [
        {
          "output_type": "stream",
          "name": "stdout",
          "text": [
            "('de', 'la', 'computación')\n"
          ]
        }
      ]
    },
    {
      "cell_type": "markdown",
      "source": [
        "# 03 Functions and Objective-Oriented Programming"
      ],
      "metadata": {
        "id": "s6gO-q8bcviH"
      }
    },
    {
      "cell_type": "markdown",
      "source": [
        "## Functions"
      ],
      "metadata": {
        "id": "ihqGDZ8x2CIo"
      }
    },
    {
      "cell_type": "code",
      "source": [
        "def factorial(x):\n",
        "  result = x\n",
        "  for i in range(x - 1):\n",
        "    result *= i + 1;\n",
        "  return result\n",
        "\n",
        "print(factorial(5))"
      ],
      "metadata": {
        "colab": {
          "base_uri": "https://localhost:8080/"
        },
        "id": "NBowr7yoc6Lm",
        "outputId": "4e38e9a5-f447-4a9d-b619-c29a399a9104"
      },
      "execution_count": null,
      "outputs": [
        {
          "output_type": "stream",
          "name": "stdout",
          "text": [
            "120\n"
          ]
        }
      ]
    },
    {
      "cell_type": "code",
      "source": [
        "%%writefile function.c\n",
        "\n",
        "#include <stdio.h>\n",
        "\n",
        "int factorial(int x) {\n",
        "    int result = x;\n",
        "    for (int i = 1; i <= x - 1; i++) {\n",
        "        result *= i;\n",
        "    }\n",
        "    return result;\n",
        "}\n",
        "\n",
        "int main() {\n",
        "    printf(\"%d\", factorial(5));\n",
        "}"
      ],
      "metadata": {
        "id": "jDKgbA542_oh"
      },
      "execution_count": null,
      "outputs": []
    },
    {
      "cell_type": "code",
      "source": [
        "%%bash\n",
        "gcc function.c -o function\n",
        "./function"
      ],
      "metadata": {
        "colab": {
          "base_uri": "https://localhost:8080/"
        },
        "id": "6BT-rh8f4MM1",
        "outputId": "1db44575-09c2-4cea-d175-63d8bca5de02"
      },
      "execution_count": null,
      "outputs": [
        {
          "output_type": "stream",
          "name": "stdout",
          "text": [
            "120"
          ]
        }
      ]
    },
    {
      "cell_type": "markdown",
      "source": [
        "## Built-in functions"
      ],
      "metadata": {
        "id": "WC7aEEPq2Ejr"
      }
    },
    {
      "cell_type": "code",
      "source": [
        "def rangeExponentAndSortIGuess(x, exp):\n",
        "  \"\"\"\n",
        "    Create a list with the result of raising a range of numbers to a power,\n",
        "    then sorts it\n",
        "  \"\"\"\n",
        "  numbers = range(x)\n",
        "  result = list(map(lambda x: (x + 1) ** exp, numbers))\n",
        "  sorted(result)\n",
        "  return result\n",
        "\n",
        "print(rangeExponentAndSortIGuess(5, -1))"
      ],
      "metadata": {
        "id": "TWKjwqjm2IHW",
        "colab": {
          "base_uri": "https://localhost:8080/"
        },
        "outputId": "24e400f6-7c2e-42ae-8173-dcdaf3b94fba"
      },
      "execution_count": null,
      "outputs": [
        {
          "output_type": "stream",
          "name": "stdout",
          "text": [
            "[1.0, 0.5, 0.3333333333333333, 0.25, 0.2]\n"
          ]
        }
      ]
    },
    {
      "cell_type": "markdown",
      "source": [
        "## Object-Oriented Programming"
      ],
      "metadata": {
        "id": "JSZ5_Z2aDz6u"
      }
    },
    {
      "cell_type": "code",
      "source": [
        "class Fruit:\n",
        "  def __init__(self, name, taste, color, maturity):\n",
        "    self.name = name\n",
        "    self.taste = taste\n",
        "    self.color = color;\n",
        "    self.maturity = maturity\n",
        "\n",
        "  def eat(self):\n",
        "    comment = \"\"\n",
        "    if self.maturity == 0:\n",
        "      comment = \"it was gross\"\n",
        "    elif self.maturity == 1:\n",
        "      comment = \"it was delicious\"\n",
        "    elif self.maturity == 2:\n",
        "      comment = \"I think I'm going to die\"\n",
        "    print(\"I ate this {}, {}\".format(self.name, comment))\n",
        "\n",
        "  def printTaste(self):\n",
        "    print(\"This {} has a {} taste\".format(self.name, self.taste))\n",
        "\n",
        "  def printColor(self):\n",
        "    print(\"This {} is {}\".format(self.name, self.color))\n",
        "\n",
        "  def printMaturity(self):\n",
        "    if self.maturity == 0:\n",
        "      print(\"This {} is not mature yet\".format(self.name))\n",
        "    elif self.maturity == 1:\n",
        "      print(\"This {} is mature already\".format(self.name))\n",
        "    elif self.maturity == 2:\n",
        "      print(\"This {} is rotten!!!\".format(self.name))\n",
        "    else:\n",
        "      print(\"Maturity scale invalid\")\n",
        "\n",
        "class Avocado(Fruit):\n",
        "  def __init__(self, maturity, specie):\n",
        "    super().__init__(\"avocado\", \"sweet\", \"green\", maturity)\n",
        "    self.specie = specie\n",
        "\n",
        "  def printSpecie(self):\n",
        "    print(\"This {} is {}\".format(self.name, self.specie))\n",
        "\n",
        "class Grape(Fruit):\n",
        "  def __init__(self, maturity, color, canIMakeWineWithIt):\n",
        "    super().__init__(\"grape\", \"sweet\", color,  maturity)\n",
        "    self.canIMakeWineWithIt = canIMakeWineWithIt\n",
        "\n",
        "  def printCanIMakeWineWithIt(self):\n",
        "    if self.canIMakeWineWithIt and self.maturity == 2:\n",
        "      print(\"I can make wine with this grape\")\n",
        "    else:\n",
        "      print(\"I can't make wine with this grape\")\n",
        "\n",
        "avocado = Avocado(1, \"Hass\")\n",
        "avocado.printColor()\n",
        "avocado.printTaste()\n",
        "avocado.printMaturity()\n",
        "avocado.printSpecie()\n",
        "avocado.eat()\n",
        "\n",
        "grape = Grape(2, \"red\", True)\n",
        "grape.printColor()\n",
        "grape.printTaste()\n",
        "grape.printMaturity()\n",
        "grape.printCanIMakeWineWithIt()\n",
        "grape.eat()"
      ],
      "metadata": {
        "colab": {
          "base_uri": "https://localhost:8080/"
        },
        "id": "eJvLPLeDD5GR",
        "outputId": "6eefabae-be4a-4b2a-d51d-8c9265737728"
      },
      "execution_count": null,
      "outputs": [
        {
          "output_type": "stream",
          "name": "stdout",
          "text": [
            "This avocado is green\n",
            "This avocado has a sweet taste\n",
            "This avocado is mature already\n",
            "This avocado is Hass\n",
            "I ate this avocado, it was delicious\n",
            "This grape is red\n",
            "This grape has a sweet taste\n",
            "This grape is rotten!!!\n",
            "I can make wine with this grape\n",
            "I ate this grape, I think I'm going to die\n"
          ]
        }
      ]
    },
    {
      "cell_type": "markdown",
      "source": [
        "# 04 NumPy and Basic Pandas"
      ],
      "metadata": {
        "id": "3R27V5TrV8Sh"
      }
    },
    {
      "cell_type": "markdown",
      "source": [
        "## NumPy"
      ],
      "metadata": {
        "id": "XZose4hYejcW"
      }
    },
    {
      "cell_type": "code",
      "source": [
        "import numpy as np"
      ],
      "metadata": {
        "id": "xK0EdA5FV9cJ"
      },
      "execution_count": 60,
      "outputs": []
    },
    {
      "cell_type": "markdown",
      "source": [
        "### Basic NumPy Arrays"
      ],
      "metadata": {
        "id": "4x63hdD8an7g"
      }
    },
    {
      "cell_type": "code",
      "source": [
        "debt_list = [20000, 7655.27, 21020, 1500, 2940, 8000, 1300, 2300, 1500, 2600, \n",
        "             36000, 4500, 40880, 1300, 6224, 114577, 17560, 43600, 10824.96]\n",
        "            #My credit card debts\n",
        "\n",
        "debt_array = np.array(debt_list)"
      ],
      "metadata": {
        "id": "jUDo3SJWasL1"
      },
      "execution_count": null,
      "outputs": []
    },
    {
      "cell_type": "code",
      "source": [
        "print(debt_array, type(debt_array))"
      ],
      "metadata": {
        "colab": {
          "base_uri": "https://localhost:8080/"
        },
        "id": "AJoc6cgndWL2",
        "outputId": "66a0f6f4-921e-409c-c849-f117d58dc1f3"
      },
      "execution_count": null,
      "outputs": [
        {
          "output_type": "stream",
          "name": "stdout",
          "text": [
            "[ 20000.     7655.27  21020.     1500.     2940.     8000.     1300.\n",
            "   2300.     1500.     2600.    36000.     4500.    40880.     1300.\n",
            "   6224.   114577.    17560.    43600.    10824.96] <class 'numpy.ndarray'>\n"
          ]
        }
      ]
    },
    {
      "cell_type": "markdown",
      "source": [
        "### Array Functions"
      ],
      "metadata": {
        "id": "cbQq4f40d30_"
      }
    },
    {
      "cell_type": "code",
      "source": [
        "print(np.mean(debt_array))\n",
        "print(np.std(debt_array)) # Std deviation\n",
        "print(np.sum(debt_array))\n",
        "print(np.max(debt_array))"
      ],
      "metadata": {
        "colab": {
          "base_uri": "https://localhost:8080/"
        },
        "id": "o9ZEmEJJd7Sl",
        "outputId": "d2eb2916-3008-4c3b-95a7-3c2bd2e3686c"
      },
      "execution_count": null,
      "outputs": [
        {
          "output_type": "stream",
          "name": "stdout",
          "text": [
            "18120.06473684211\n",
            "26392.9454764106\n",
            "344281.23000000004\n",
            "114577.0\n"
          ]
        }
      ]
    },
    {
      "cell_type": "markdown",
      "source": [
        "## Pandas"
      ],
      "metadata": {
        "id": "Gi7cXd9pedKR"
      }
    },
    {
      "cell_type": "code",
      "source": [
        "import pandas as pd"
      ],
      "metadata": {
        "id": "pmAdfTAtnV8Q"
      },
      "execution_count": 31,
      "outputs": []
    },
    {
      "cell_type": "markdown",
      "source": [
        "### Series"
      ],
      "metadata": {
        "id": "Xq8qsDmEenaa"
      }
    },
    {
      "cell_type": "code",
      "source": [
        "s = pd.Series(debt_list, name = \"Credit Card Debt\", index = [\n",
        "                                                             \"Recarga\",\n",
        "                                                             \"Liberapay\",\n",
        "                                                             \"D1\",\n",
        "                                                             \"Snack\",\n",
        "                                                             \"Exito\",\n",
        "                                                             \"Pan\",\n",
        "                                                             \"Snack\",\n",
        "                                                             \"Snack\",\n",
        "                                                             \"Snack\",\n",
        "                                                             \"Snack\",\n",
        "                                                             \"Bienestar\",\n",
        "                                                             \"Snack\",\n",
        "                                                             \"D1\",\n",
        "                                                             \"Snack\",\n",
        "                                                             \"Minimarket\",\n",
        "                                                             \"Farmacia\",\n",
        "                                                             \"Almuerzo\",\n",
        "                                                             \"Papelería\",\n",
        "                                                             \"Baratija\"\n",
        "])\n",
        "s"
      ],
      "metadata": {
        "colab": {
          "base_uri": "https://localhost:8080/"
        },
        "id": "p3DL2um4esOa",
        "outputId": "80c7e9b0-7692-4746-aad5-3bb5a624cf43"
      },
      "execution_count": null,
      "outputs": [
        {
          "output_type": "execute_result",
          "data": {
            "text/plain": [
              "Recarga        20000.00\n",
              "Liberapay       7655.27\n",
              "D1             21020.00\n",
              "Snack           1500.00\n",
              "Exito           2940.00\n",
              "Pan             8000.00\n",
              "Snack           1300.00\n",
              "Snack           2300.00\n",
              "Snack           1500.00\n",
              "Snack           2600.00\n",
              "Bienestar      36000.00\n",
              "Snack           4500.00\n",
              "D1             40880.00\n",
              "Snack           1300.00\n",
              "Minimarket      6224.00\n",
              "Farmacia      114577.00\n",
              "Almuerzo       17560.00\n",
              "Papelería      43600.00\n",
              "Baratija       10824.96\n",
              "Name: Credit Card Debt, dtype: float64"
            ]
          },
          "metadata": {},
          "execution_count": 35
        }
      ]
    },
    {
      "cell_type": "code",
      "source": [
        "print(s.describe())"
      ],
      "metadata": {
        "colab": {
          "base_uri": "https://localhost:8080/"
        },
        "id": "kBeI2WdZfrY1",
        "outputId": "ef631e4c-69a1-4fc5-eadf-b675f6142f24"
      },
      "execution_count": null,
      "outputs": [
        {
          "output_type": "stream",
          "name": "stdout",
          "text": [
            "count        19.000000\n",
            "mean      18120.064737\n",
            "std       27116.173779\n",
            "min        1300.000000\n",
            "25%        2450.000000\n",
            "50%        7655.270000\n",
            "75%       20510.000000\n",
            "max      114577.000000\n",
            "Name: Credit Card Debt, dtype: float64\n"
          ]
        }
      ]
    },
    {
      "cell_type": "markdown",
      "source": [
        "### Time index"
      ],
      "metadata": {
        "id": "hnB_aEHuia3O"
      }
    },
    {
      "cell_type": "code",
      "source": [
        "time_index = pd.date_range(\"2022-03-01\", periods = len(s), freq = \"d\")\n",
        "s.index = time_index\n",
        "s"
      ],
      "metadata": {
        "colab": {
          "base_uri": "https://localhost:8080/"
        },
        "id": "52U8BMc5ic2T",
        "outputId": "143ac742-0ae2-4801-f661-ff73628a405d"
      },
      "execution_count": null,
      "outputs": [
        {
          "output_type": "execute_result",
          "data": {
            "text/plain": [
              "2022-03-01     20000.00\n",
              "2022-03-02      7655.27\n",
              "2022-03-03     21020.00\n",
              "2022-03-04      1500.00\n",
              "2022-03-05      2940.00\n",
              "2022-03-06      8000.00\n",
              "2022-03-07      1300.00\n",
              "2022-03-08      2300.00\n",
              "2022-03-09      1500.00\n",
              "2022-03-10      2600.00\n",
              "2022-03-11     36000.00\n",
              "2022-03-12      4500.00\n",
              "2022-03-13     40880.00\n",
              "2022-03-14      1300.00\n",
              "2022-03-15      6224.00\n",
              "2022-03-16    114577.00\n",
              "2022-03-17     17560.00\n",
              "2022-03-18     43600.00\n",
              "2022-03-19     10824.96\n",
              "Freq: D, Name: Credit Card Debt, dtype: float64"
            ]
          },
          "metadata": {},
          "execution_count": 44
        }
      ]
    },
    {
      "cell_type": "code",
      "source": [
        "print(s[s < np.mean(s)] )\n",
        "\n",
        "# Is in between the mean and the mean plus 1.64 std deviations.\n",
        "print([(s > np.mean(s)) & (s < np.mean(s) + 1.64*np.std(s))])"
      ],
      "metadata": {
        "colab": {
          "base_uri": "https://localhost:8080/"
        },
        "id": "ZyTme2BHwWSU",
        "outputId": "101de0e3-a9ee-48d2-a2ef-2c595ef9e9c6"
      },
      "execution_count": null,
      "outputs": [
        {
          "output_type": "stream",
          "name": "stdout",
          "text": [
            "2022-03-02     7655.27\n",
            "2022-03-04     1500.00\n",
            "2022-03-05     2940.00\n",
            "2022-03-06     8000.00\n",
            "2022-03-07     1300.00\n",
            "2022-03-08     2300.00\n",
            "2022-03-09     1500.00\n",
            "2022-03-10     2600.00\n",
            "2022-03-12     4500.00\n",
            "2022-03-14     1300.00\n",
            "2022-03-15     6224.00\n",
            "2022-03-17    17560.00\n",
            "2022-03-19    10824.96\n",
            "Name: Credit Card Debt, dtype: float64\n",
            "[2022-03-01     True\n",
            "2022-03-02    False\n",
            "2022-03-03     True\n",
            "2022-03-04    False\n",
            "2022-03-05    False\n",
            "2022-03-06    False\n",
            "2022-03-07    False\n",
            "2022-03-08    False\n",
            "2022-03-09    False\n",
            "2022-03-10    False\n",
            "2022-03-11     True\n",
            "2022-03-12    False\n",
            "2022-03-13     True\n",
            "2022-03-14    False\n",
            "2022-03-15    False\n",
            "2022-03-16    False\n",
            "2022-03-17    False\n",
            "2022-03-18     True\n",
            "2022-03-19    False\n",
            "Freq: D, Name: Credit Card Debt, dtype: bool]\n"
          ]
        }
      ]
    },
    {
      "cell_type": "code",
      "source": [
        "!neofetch"
      ],
      "metadata": {
        "colab": {
          "base_uri": "https://localhost:8080/"
        },
        "id": "peoE1pB4oJsP",
        "outputId": "ba45718a-9325-4873-8d22-c0f7203c38b7"
      },
      "execution_count": null,
      "outputs": [
        {
          "output_type": "stream",
          "name": "stdout",
          "text": [
            "\u001b[?25l\u001b[?7l\u001b[0m\u001b[31m\u001b[1m            .-/+oossssoo+/-. \n",
            "        `:+ssssssssssssssssss+:` \n",
            "      -+ssssssssssssssssssyyssss+- \n",
            "    .ossssssssssssssssss\u001b[37m\u001b[0m\u001b[1mdMMMNy\u001b[0m\u001b[31m\u001b[1msssso. \n",
            "   /sssssssssss\u001b[37m\u001b[0m\u001b[1mhdmmNNmmyNMMMMh\u001b[0m\u001b[31m\u001b[1mssssss/ \n",
            "  +sssssssss\u001b[37m\u001b[0m\u001b[1mhm\u001b[0m\u001b[31m\u001b[1myd\u001b[37m\u001b[0m\u001b[1mMMMMMMMNddddy\u001b[0m\u001b[31m\u001b[1mssssssss+ \n",
            " /ssssssss\u001b[37m\u001b[0m\u001b[1mhNMMM\u001b[0m\u001b[31m\u001b[1myh\u001b[37m\u001b[0m\u001b[1mhyyyyhmNMMMNh\u001b[0m\u001b[31m\u001b[1mssssssss/ \n",
            ".ssssssss\u001b[37m\u001b[0m\u001b[1mdMMMNh\u001b[0m\u001b[31m\u001b[1mssssssssss\u001b[37m\u001b[0m\u001b[1mhNMMMd\u001b[0m\u001b[31m\u001b[1mssssssss. \n",
            "+ssss\u001b[37m\u001b[0m\u001b[1mhhhyNMMNy\u001b[0m\u001b[31m\u001b[1mssssssssssss\u001b[37m\u001b[0m\u001b[1myNMMMy\u001b[0m\u001b[31m\u001b[1msssssss+ \n",
            "oss\u001b[37m\u001b[0m\u001b[1myNMMMNyMMh\u001b[0m\u001b[31m\u001b[1mssssssssssssss\u001b[37m\u001b[0m\u001b[1mhmmmh\u001b[0m\u001b[31m\u001b[1mssssssso \n",
            "oss\u001b[37m\u001b[0m\u001b[1myNMMMNyMMh\u001b[0m\u001b[31m\u001b[1msssssssssssssshmmmh\u001b[0m\u001b[31m\u001b[1mssssssso \n",
            "+ssss\u001b[37m\u001b[0m\u001b[1mhhhyNMMNy\u001b[0m\u001b[31m\u001b[1mssssssssssss\u001b[37m\u001b[0m\u001b[1myNMMMy\u001b[0m\u001b[31m\u001b[1msssssss+ \n",
            ".ssssssss\u001b[37m\u001b[0m\u001b[1mdMMMNh\u001b[0m\u001b[31m\u001b[1mssssssssss\u001b[37m\u001b[0m\u001b[1mhNMMMd\u001b[0m\u001b[31m\u001b[1mssssssss. \n",
            " /ssssssss\u001b[37m\u001b[0m\u001b[1mhNMMM\u001b[0m\u001b[31m\u001b[1myh\u001b[37m\u001b[0m\u001b[1mhyyyyhdNMMMNh\u001b[0m\u001b[31m\u001b[1mssssssss/ \n",
            "  +sssssssss\u001b[37m\u001b[0m\u001b[1mdm\u001b[0m\u001b[31m\u001b[1myd\u001b[37m\u001b[0m\u001b[1mMMMMMMMMddddy\u001b[0m\u001b[31m\u001b[1mssssssss+ \n",
            "   /sssssssssss\u001b[37m\u001b[0m\u001b[1mhdmNNNNmyNMMMMh\u001b[0m\u001b[31m\u001b[1mssssss/ \n",
            "    .ossssssssssssssssss\u001b[37m\u001b[0m\u001b[1mdMMMNy\u001b[0m\u001b[31m\u001b[1msssso. \n",
            "      -+sssssssssssssssss\u001b[37m\u001b[0m\u001b[1myyy\u001b[0m\u001b[31m\u001b[1mssss+- \n",
            "        `:+ssssssssssssssssss+:` \n",
            "            .-/+oossssoo+/-. \n",
            "\u001b[20A\u001b[9999999D\u001b[43C\u001b[0m\u001b[1m\u001b[0m\u001b[31m\u001b[1mroot@\u001b[0m\u001b[31m\u001b[1m3432e3594af0\u001b[0m \n",
            "\u001b[43C\u001b[0m-----------------\u001b[0m \n",
            "\u001b[43C\u001b[0m\u001b[31m\u001b[1mOS\u001b[0m\u001b[0m:\u001b[0m Ubuntu 18.04.5 LTS x86_64\u001b[0m \n",
            "\u001b[43C\u001b[0m\u001b[31m\u001b[1mHost\u001b[0m\u001b[0m:\u001b[0m Google Compute Engine\u001b[0m \n",
            "\u001b[43C\u001b[0m\u001b[31m\u001b[1mKernel\u001b[0m\u001b[0m:\u001b[0m 5.4.144+\u001b[0m \n",
            "\u001b[43C\u001b[0m\u001b[31m\u001b[1mUptime\u001b[0m\u001b[0m:\u001b[0m 5 mins\u001b[0m \n",
            "\u001b[43C\u001b[0m\u001b[31m\u001b[1mPackages\u001b[0m\u001b[0m:\u001b[0m 1394\u001b[0m \n",
            "\u001b[43C\u001b[0m\u001b[31m\u001b[1mShell\u001b[0m\u001b[0m:\u001b[0m bash 4.4.20\u001b[0m \n",
            "\u001b[43C\u001b[0m\u001b[31m\u001b[1mTerminal\u001b[0m\u001b[0m:\u001b[0m jupyter-noteboo\u001b[0m \n",
            "\u001b[43C\u001b[0m\u001b[31m\u001b[1mCPU\u001b[0m\u001b[0m:\u001b[0m Intel Xeon (2) @ 2.299GHz\u001b[0m \n",
            "\u001b[43C\u001b[0m\u001b[31m\u001b[1mMemory\u001b[0m\u001b[0m:\u001b[0m 762MiB / 12991MiB\u001b[0m \n",
            "\n",
            "\u001b[43C\u001b[0m\u001b[30m\u001b[40m   \u001b[0m\u001b[31m\u001b[41m   \u001b[0m\u001b[32m\u001b[42m   \u001b[0m\u001b[33m\u001b[43m   \u001b[0m\u001b[34m\u001b[44m   \u001b[0m\u001b[35m\u001b[45m   \u001b[0m\u001b[36m\u001b[46m   \u001b[0m\u001b[37m\u001b[47m   \u001b[0m\n",
            "\n",
            "\n",
            "\u001b[6B\u001b[?25h\u001b[?7h"
          ]
        }
      ]
    },
    {
      "cell_type": "markdown",
      "source": [
        "# 05 Pandas-Resampling and DataFrame"
      ],
      "metadata": {
        "id": "Ptu2uOo0ZsKF"
      }
    },
    {
      "cell_type": "markdown",
      "source": [
        "## Fetching Data"
      ],
      "metadata": {
        "id": "rYsi8KChZ4hk"
      }
    },
    {
      "cell_type": "code",
      "source": [
        "!pip install yfinance\n",
        "import yfinance as yf\n",
        "import matplotlib.pyplot as plt"
      ],
      "metadata": {
        "id": "LQ0UeaI7Zr04"
      },
      "execution_count": null,
      "outputs": []
    },
    {
      "cell_type": "code",
      "source": [
        "# Access ticker data\n",
        "gme = yf.Ticker(\"GME\")\n",
        "\n",
        "# Get stock info\n",
        "print(gme.info)\n",
        "\n",
        "# Get historical market data\n",
        "gme_table = gme.history(start=\"2020-01-01\")\n",
        "gme_table"
      ],
      "metadata": {
        "colab": {
          "base_uri": "https://localhost:8080/",
          "height": 692
        },
        "id": "jIXAD7tzaOrj",
        "outputId": "a93cccaf-8231-4b7d-aabc-23e91ee2f96b"
      },
      "execution_count": 13,
      "outputs": [
        {
          "output_type": "stream",
          "name": "stdout",
          "text": [
            "{'zip': '76051', 'sector': 'Consumer Cyclical', 'fullTimeEmployees': 12000, 'longBusinessSummary': 'GameStop Corp., a specialty retailer, provides games and entertainment products through its e-commerce properties and various stores in the United States, Canada, Australia, and Europe. The company sells new and pre-owned video game platforms; accessories, such as controllers, gaming headsets, virtual reality products, and memory cards; new and pre-owned video game software; and in-game digital currency, digital downloadable content, and full-game downloads, as well as network points cards, and prepaid digital and subscription cards. It also sells collectibles comprising licensed merchandise primarily related to the video game, television, and movie industries, as well as pop culture themes. The company operates its stores and e-commerce sites under the GameStop, EB Games, and Micromania brands; and collectibles stores under the Zing Pop Culture and ThinkGeek brand, as well as offers Game Informer, a print and digital video game publication featuring reviews of new title releases, game tips, and news regarding the video game industry. As of January 30, 2021, it operated 4,816 stores. The company was formerly known as GSC Holdings Corp. GameStop Corp. was founded in 1996 and is headquartered in Grapevine, Texas.', 'city': 'Grapevine', 'phone': '817 424 2000', 'state': 'TX', 'country': 'United States', 'companyOfficers': [], 'website': 'https://www.gamestop.com', 'maxAge': 1, 'address1': '625 Westport Parkway', 'industry': 'Specialty Retail', 'ebitdaMargins': -0.01626, 'profitMargins': -0.026080001, 'grossMargins': 0.24123, 'operatingCashflow': -159200000, 'revenueGrowth': 0.291, 'operatingMargins': -0.02864, 'ebitda': -95600000, 'targetLowPrice': 23, 'recommendationKey': 'underperform', 'grossProfits': 1259500000, 'freeCashflow': -168137504, 'targetMedianPrice': 45, 'currentPrice': 82.64, 'earningsGrowth': None, 'currentRatio': 1.9, 'returnOnAssets': -0.03308, 'numberOfAnalystOpinions': 3, 'targetMeanPrice': 56, 'debtToEquity': 38.053, 'returnOnEquity': -0.14709, 'targetHighPrice': 100, 'totalCash': 1412999936, 'totalDebt': 667800000, 'totalRevenue': 5878900224, 'totalCashPerShare': 18.604, 'financialCurrency': 'USD', 'revenuePerShare': 84.044, 'quickRatio': 1.079, 'recommendationMean': 4, 'exchange': 'NYQ', 'shortName': 'GameStop Corporation', 'longName': 'GameStop Corp.', 'exchangeTimezoneName': 'America/New_York', 'exchangeTimezoneShortName': 'EDT', 'isEsgPopulated': False, 'gmtOffSetMilliseconds': '-14400000', 'quoteType': 'EQUITY', 'symbol': 'GME', 'messageBoardId': 'finmb_1342560', 'market': 'us_market', 'annualHoldingsTurnover': None, 'enterpriseToRevenue': 0.882, 'beta3Year': None, 'enterpriseToEbitda': -54.261, '52WeekChange': -0.6061198, 'morningStarRiskRating': None, 'forwardEps': -0.8, 'revenueQuarterlyGrowth': None, 'sharesOutstanding': 76350800, 'fundInceptionDate': None, 'annualReportExpenseRatio': None, 'totalAssets': None, 'bookValue': 23.244, 'sharesShort': 11713653, 'sharesPercentSharesOut': 0.1534, 'fundFamily': None, 'lastFiscalYearEnd': 1611964800, 'heldPercentInstitutions': 0.28625, 'netIncomeToCommon': -153500000, 'trailingEps': -2.194, 'lastDividendValue': 0.38, 'SandP52WeekChange': 0.072551966, 'priceToBook': 3.5553262, 'heldPercentInsiders': 0.18014, 'nextFiscalYearEnd': 1675036800, 'yield': None, 'mostRecentQuarter': 1635552000, 'shortRatio': 4.56, 'sharesShortPreviousMonthDate': 1643587200, 'floatShares': 63095352, 'beta': -1.504429, 'enterpriseValue': 5187315712, 'priceHint': 2, 'threeYearAverageReturn': None, 'lastSplitDate': 1174262400, 'lastSplitFactor': '2:1', 'legalType': None, 'lastDividendDate': 1552521600, 'morningStarOverallRating': None, 'earningsQuarterlyGrowth': None, 'priceToSalesTrailing12Months': 1.2736026, 'dateShortInterest': 1646006400, 'pegRatio': 1.24, 'ytdReturn': None, 'forwardPE': -103.299995, 'lastCapGain': None, 'shortPercentOfFloat': 0.2525, 'sharesShortPriorMonth': 10998384, 'impliedSharesOutstanding': 0, 'category': None, 'fiveYearAverageReturn': None, 'previousClose': 78.11, 'regularMarketOpen': 82.1, 'twoHundredDayAverage': 171.1833, 'trailingAnnualDividendYield': 0, 'payoutRatio': 0, 'volume24Hr': None, 'regularMarketDayHigh': 87.56, 'navPrice': None, 'averageDailyVolume10Day': 2221920, 'regularMarketPreviousClose': 78.11, 'fiftyDayAverage': 114.2244, 'trailingAnnualDividendRate': 0, 'open': 82.1, 'toCurrency': None, 'averageVolume10days': 2221920, 'expireDate': None, 'algorithm': None, 'dividendRate': None, 'exDividendDate': 1552521600, 'circulatingSupply': None, 'startDate': None, 'regularMarketDayLow': 78.68, 'currency': 'USD', 'regularMarketVolume': 3519728, 'lastMarket': None, 'maxSupply': None, 'openInterest': None, 'marketCap': 7487382528, 'volumeAllCurrencies': None, 'strikePrice': None, 'averageVolume': 2863226, 'dayLow': 78.68, 'ask': 82.85, 'askSize': 1800, 'volume': 3519728, 'fiftyTwoWeekHigh': 344.66, 'fromCurrency': None, 'fiveYearAvgDividendYield': None, 'fiftyTwoWeekLow': 77.58, 'bid': 82, 'tradeable': False, 'dividendYield': None, 'bidSize': 1000, 'dayHigh': 87.56, 'regularMarketPrice': 82.64, 'preMarketPrice': 81.99, 'logo_url': 'https://logo.clearbit.com/gamestop.com'}\n"
          ]
        },
        {
          "output_type": "execute_result",
          "data": {
            "text/plain": [
              "                  Open        High         Low       Close   Volume  \\\n",
              "Date                                                                  \n",
              "2020-01-02    6.140000    6.470000    6.070000    6.310000  4453600   \n",
              "2020-01-03    6.210000    6.250000    5.840000    5.880000  3543900   \n",
              "2020-01-06    5.800000    5.910000    5.600000    5.850000  3394800   \n",
              "2020-01-07    5.770000    5.830000    5.440000    5.520000  5228000   \n",
              "2020-01-08    5.490000    5.850000    5.410000    5.720000  5629400   \n",
              "...                ...         ...         ...         ...      ...   \n",
              "2022-03-09  106.980003  108.860001  103.500000  105.209999  1399600   \n",
              "2022-03-10  103.919998  104.059998   98.250000  100.559998  1395500   \n",
              "2022-03-11  102.660004  102.900002   92.690002   92.690002  2199400   \n",
              "2022-03-14   93.430000   94.320000   77.580002   78.110001  4533600   \n",
              "2022-03-15   82.099998   87.559998   78.680000   82.639999  3525100   \n",
              "\n",
              "            Dividends  Stock Splits  \n",
              "Date                                 \n",
              "2020-01-02          0             0  \n",
              "2020-01-03          0             0  \n",
              "2020-01-06          0             0  \n",
              "2020-01-07          0             0  \n",
              "2020-01-08          0             0  \n",
              "...               ...           ...  \n",
              "2022-03-09          0             0  \n",
              "2022-03-10          0             0  \n",
              "2022-03-11          0             0  \n",
              "2022-03-14          0             0  \n",
              "2022-03-15          0             0  \n",
              "\n",
              "[555 rows x 7 columns]"
            ],
            "text/html": [
              "\n",
              "  <div id=\"df-70dade29-e772-4333-b32d-d8d016f4e702\">\n",
              "    <div class=\"colab-df-container\">\n",
              "      <div>\n",
              "<style scoped>\n",
              "    .dataframe tbody tr th:only-of-type {\n",
              "        vertical-align: middle;\n",
              "    }\n",
              "\n",
              "    .dataframe tbody tr th {\n",
              "        vertical-align: top;\n",
              "    }\n",
              "\n",
              "    .dataframe thead th {\n",
              "        text-align: right;\n",
              "    }\n",
              "</style>\n",
              "<table border=\"1\" class=\"dataframe\">\n",
              "  <thead>\n",
              "    <tr style=\"text-align: right;\">\n",
              "      <th></th>\n",
              "      <th>Open</th>\n",
              "      <th>High</th>\n",
              "      <th>Low</th>\n",
              "      <th>Close</th>\n",
              "      <th>Volume</th>\n",
              "      <th>Dividends</th>\n",
              "      <th>Stock Splits</th>\n",
              "    </tr>\n",
              "    <tr>\n",
              "      <th>Date</th>\n",
              "      <th></th>\n",
              "      <th></th>\n",
              "      <th></th>\n",
              "      <th></th>\n",
              "      <th></th>\n",
              "      <th></th>\n",
              "      <th></th>\n",
              "    </tr>\n",
              "  </thead>\n",
              "  <tbody>\n",
              "    <tr>\n",
              "      <th>2020-01-02</th>\n",
              "      <td>6.140000</td>\n",
              "      <td>6.470000</td>\n",
              "      <td>6.070000</td>\n",
              "      <td>6.310000</td>\n",
              "      <td>4453600</td>\n",
              "      <td>0</td>\n",
              "      <td>0</td>\n",
              "    </tr>\n",
              "    <tr>\n",
              "      <th>2020-01-03</th>\n",
              "      <td>6.210000</td>\n",
              "      <td>6.250000</td>\n",
              "      <td>5.840000</td>\n",
              "      <td>5.880000</td>\n",
              "      <td>3543900</td>\n",
              "      <td>0</td>\n",
              "      <td>0</td>\n",
              "    </tr>\n",
              "    <tr>\n",
              "      <th>2020-01-06</th>\n",
              "      <td>5.800000</td>\n",
              "      <td>5.910000</td>\n",
              "      <td>5.600000</td>\n",
              "      <td>5.850000</td>\n",
              "      <td>3394800</td>\n",
              "      <td>0</td>\n",
              "      <td>0</td>\n",
              "    </tr>\n",
              "    <tr>\n",
              "      <th>2020-01-07</th>\n",
              "      <td>5.770000</td>\n",
              "      <td>5.830000</td>\n",
              "      <td>5.440000</td>\n",
              "      <td>5.520000</td>\n",
              "      <td>5228000</td>\n",
              "      <td>0</td>\n",
              "      <td>0</td>\n",
              "    </tr>\n",
              "    <tr>\n",
              "      <th>2020-01-08</th>\n",
              "      <td>5.490000</td>\n",
              "      <td>5.850000</td>\n",
              "      <td>5.410000</td>\n",
              "      <td>5.720000</td>\n",
              "      <td>5629400</td>\n",
              "      <td>0</td>\n",
              "      <td>0</td>\n",
              "    </tr>\n",
              "    <tr>\n",
              "      <th>...</th>\n",
              "      <td>...</td>\n",
              "      <td>...</td>\n",
              "      <td>...</td>\n",
              "      <td>...</td>\n",
              "      <td>...</td>\n",
              "      <td>...</td>\n",
              "      <td>...</td>\n",
              "    </tr>\n",
              "    <tr>\n",
              "      <th>2022-03-09</th>\n",
              "      <td>106.980003</td>\n",
              "      <td>108.860001</td>\n",
              "      <td>103.500000</td>\n",
              "      <td>105.209999</td>\n",
              "      <td>1399600</td>\n",
              "      <td>0</td>\n",
              "      <td>0</td>\n",
              "    </tr>\n",
              "    <tr>\n",
              "      <th>2022-03-10</th>\n",
              "      <td>103.919998</td>\n",
              "      <td>104.059998</td>\n",
              "      <td>98.250000</td>\n",
              "      <td>100.559998</td>\n",
              "      <td>1395500</td>\n",
              "      <td>0</td>\n",
              "      <td>0</td>\n",
              "    </tr>\n",
              "    <tr>\n",
              "      <th>2022-03-11</th>\n",
              "      <td>102.660004</td>\n",
              "      <td>102.900002</td>\n",
              "      <td>92.690002</td>\n",
              "      <td>92.690002</td>\n",
              "      <td>2199400</td>\n",
              "      <td>0</td>\n",
              "      <td>0</td>\n",
              "    </tr>\n",
              "    <tr>\n",
              "      <th>2022-03-14</th>\n",
              "      <td>93.430000</td>\n",
              "      <td>94.320000</td>\n",
              "      <td>77.580002</td>\n",
              "      <td>78.110001</td>\n",
              "      <td>4533600</td>\n",
              "      <td>0</td>\n",
              "      <td>0</td>\n",
              "    </tr>\n",
              "    <tr>\n",
              "      <th>2022-03-15</th>\n",
              "      <td>82.099998</td>\n",
              "      <td>87.559998</td>\n",
              "      <td>78.680000</td>\n",
              "      <td>82.639999</td>\n",
              "      <td>3525100</td>\n",
              "      <td>0</td>\n",
              "      <td>0</td>\n",
              "    </tr>\n",
              "  </tbody>\n",
              "</table>\n",
              "<p>555 rows × 7 columns</p>\n",
              "</div>\n",
              "      <button class=\"colab-df-convert\" onclick=\"convertToInteractive('df-70dade29-e772-4333-b32d-d8d016f4e702')\"\n",
              "              title=\"Convert this dataframe to an interactive table.\"\n",
              "              style=\"display:none;\">\n",
              "        \n",
              "  <svg xmlns=\"http://www.w3.org/2000/svg\" height=\"24px\"viewBox=\"0 0 24 24\"\n",
              "       width=\"24px\">\n",
              "    <path d=\"M0 0h24v24H0V0z\" fill=\"none\"/>\n",
              "    <path d=\"M18.56 5.44l.94 2.06.94-2.06 2.06-.94-2.06-.94-.94-2.06-.94 2.06-2.06.94zm-11 1L8.5 8.5l.94-2.06 2.06-.94-2.06-.94L8.5 2.5l-.94 2.06-2.06.94zm10 10l.94 2.06.94-2.06 2.06-.94-2.06-.94-.94-2.06-.94 2.06-2.06.94z\"/><path d=\"M17.41 7.96l-1.37-1.37c-.4-.4-.92-.59-1.43-.59-.52 0-1.04.2-1.43.59L10.3 9.45l-7.72 7.72c-.78.78-.78 2.05 0 2.83L4 21.41c.39.39.9.59 1.41.59.51 0 1.02-.2 1.41-.59l7.78-7.78 2.81-2.81c.8-.78.8-2.07 0-2.86zM5.41 20L4 18.59l7.72-7.72 1.47 1.35L5.41 20z\"/>\n",
              "  </svg>\n",
              "      </button>\n",
              "      \n",
              "  <style>\n",
              "    .colab-df-container {\n",
              "      display:flex;\n",
              "      flex-wrap:wrap;\n",
              "      gap: 12px;\n",
              "    }\n",
              "\n",
              "    .colab-df-convert {\n",
              "      background-color: #E8F0FE;\n",
              "      border: none;\n",
              "      border-radius: 50%;\n",
              "      cursor: pointer;\n",
              "      display: none;\n",
              "      fill: #1967D2;\n",
              "      height: 32px;\n",
              "      padding: 0 0 0 0;\n",
              "      width: 32px;\n",
              "    }\n",
              "\n",
              "    .colab-df-convert:hover {\n",
              "      background-color: #E2EBFA;\n",
              "      box-shadow: 0px 1px 2px rgba(60, 64, 67, 0.3), 0px 1px 3px 1px rgba(60, 64, 67, 0.15);\n",
              "      fill: #174EA6;\n",
              "    }\n",
              "\n",
              "    [theme=dark] .colab-df-convert {\n",
              "      background-color: #3B4455;\n",
              "      fill: #D2E3FC;\n",
              "    }\n",
              "\n",
              "    [theme=dark] .colab-df-convert:hover {\n",
              "      background-color: #434B5C;\n",
              "      box-shadow: 0px 1px 3px 1px rgba(0, 0, 0, 0.15);\n",
              "      filter: drop-shadow(0px 1px 2px rgba(0, 0, 0, 0.3));\n",
              "      fill: #FFFFFF;\n",
              "    }\n",
              "  </style>\n",
              "\n",
              "      <script>\n",
              "        const buttonEl =\n",
              "          document.querySelector('#df-70dade29-e772-4333-b32d-d8d016f4e702 button.colab-df-convert');\n",
              "        buttonEl.style.display =\n",
              "          google.colab.kernel.accessAllowed ? 'block' : 'none';\n",
              "\n",
              "        async function convertToInteractive(key) {\n",
              "          const element = document.querySelector('#df-70dade29-e772-4333-b32d-d8d016f4e702');\n",
              "          const dataTable =\n",
              "            await google.colab.kernel.invokeFunction('convertToInteractive',\n",
              "                                                     [key], {});\n",
              "          if (!dataTable) return;\n",
              "\n",
              "          const docLinkHtml = 'Like what you see? Visit the ' +\n",
              "            '<a target=\"_blank\" href=https://colab.research.google.com/notebooks/data_table.ipynb>data table notebook</a>'\n",
              "            + ' to learn more about interactive tables.';\n",
              "          element.innerHTML = '';\n",
              "          dataTable['output_type'] = 'display_data';\n",
              "          await google.colab.output.renderOutput(dataTable, element);\n",
              "          const docLink = document.createElement('div');\n",
              "          docLink.innerHTML = docLinkHtml;\n",
              "          element.appendChild(docLink);\n",
              "        }\n",
              "      </script>\n",
              "    </div>\n",
              "  </div>\n",
              "  "
            ]
          },
          "metadata": {},
          "execution_count": 13
        }
      ]
    },
    {
      "cell_type": "code",
      "source": [
        "gme = gme_table['High']\n",
        "\n",
        "plt.plot(gme)\n",
        "gme.describe()"
      ],
      "metadata": {
        "colab": {
          "base_uri": "https://localhost:8080/",
          "height": 422
        },
        "id": "Q5k4b77Cbsf4",
        "outputId": "c74e6d4d-dd5b-4c57-e474-f06ad7d53f4d"
      },
      "execution_count": 14,
      "outputs": [
        {
          "output_type": "execute_result",
          "data": {
            "text/plain": [
              "count    555.000000\n",
              "mean      96.866108\n",
              "std       94.428292\n",
              "min        2.940000\n",
              "25%        5.205000\n",
              "50%       76.760002\n",
              "75%      181.230003\n",
              "max      483.000000\n",
              "Name: High, dtype: float64"
            ]
          },
          "metadata": {},
          "execution_count": 14
        },
        {
          "output_type": "display_data",
          "data": {
            "text/plain": [
              "<Figure size 432x288 with 1 Axes>"
            ],
            "image/png": "[encoded data removed]"
          },
          "metadata": {
            "needs_background": "light"
          }
        }
      ]
    },
    {
      "cell_type": "markdown",
      "source": [
        "## Resampling"
      ],
      "metadata": {
        "id": "wo24XeWhyWdm"
      }
    },
    {
      "cell_type": "code",
      "source": [
        "# Groups data monthly\n",
        "std = gme.resample('M').std()\n",
        "max = gme.resample('M').max()\n",
        "min = gme.resample('M').min()\n",
        "\n",
        "plt.plot(std, label = \"std\")\n",
        "plt.plot(max, label = \"max\")\n",
        "plt.plot(min, label = \"min\")\n",
        "\n",
        "plt.legend()\n",
        "plt.show()"
      ],
      "metadata": {
        "colab": {
          "base_uri": "https://localhost:8080/",
          "height": 266
        },
        "id": "ZE9pezGAfAZK",
        "outputId": "37716ed7-1283-47d1-d565-f347525a9907"
      },
      "execution_count": 19,
      "outputs": [
        {
          "output_type": "display_data",
          "data": {
            "text/plain": [
              "<Figure size 432x288 with 1 Axes>"
            ],
            "image/png": "[encoded data removed]"
          },
          "metadata": {
            "needs_background": "light"
          }
        }
      ]
    },
    {
      "cell_type": "code",
      "source": [
        "# Get monthly return using the first and the last day of a month\n",
        "monthly_return = gme.resample('M').agg(lambda x: x[-1]/x[0] - 1)\n",
        "\n",
        "plt.plot(monthly_return)\n",
        "monthly_return.describe()"
      ],
      "metadata": {
        "colab": {
          "base_uri": "https://localhost:8080/",
          "height": 421
        },
        "id": "Hv2HelDUuG4B",
        "outputId": "3c99847c-a092-4109-d509-44152c127d09"
      },
      "execution_count": 26,
      "outputs": [
        {
          "output_type": "execute_result",
          "data": {
            "text/plain": [
              "count    27.000000\n",
              "mean      0.818313\n",
              "std       3.983709\n",
              "min      -0.556211\n",
              "25%      -0.207747\n",
              "50%      -0.012987\n",
              "75%       0.367422\n",
              "max      20.674346\n",
              "Name: High, dtype: float64"
            ]
          },
          "metadata": {},
          "execution_count": 26
        },
        {
          "output_type": "display_data",
          "data": {
            "text/plain": [
              "<Figure size 432x288 with 1 Axes>"
            ],
            "image/png": "[encoded data removed]"
          },
          "metadata": {
            "needs_background": "light"
          }
        }
      ]
    },
    {
      "cell_type": "markdown",
      "source": [
        "## DataFrame"
      ],
      "metadata": {
        "id": "9uS_rRXIyb6H"
      }
    },
    {
      "cell_type": "markdown",
      "source": [
        "### Create DataFrames"
      ],
      "metadata": {
        "id": "zOVs4f3Myi7w"
      }
    },
    {
      "cell_type": "code",
      "source": [
        "dict = {'AAPL': [143.5, 144.09, 142.73, 144.18, 143.77],\n",
        "        'GOOG':[898.7, 911.71, 906.69, 918.59, 926.99],\n",
        "        'IBM':[155.58, 153.67, 152.36, 152.94, 153.49]}\n",
        "\n",
        "#Get a range of dates\n",
        "data_index = pd.date_range('2021-07-10', periods = 5, freq = 'D')\n",
        "\n",
        "df = pd.DataFrame(dict, index = data_index)\n",
        "\n",
        "plt.plot(df)"
      ],
      "metadata": {
        "colab": {
          "base_uri": "https://localhost:8080/",
          "height": 317
        },
        "id": "6EseRrVQyfjm",
        "outputId": "44529d04-28ef-45c5-9ae7-999506414f96"
      },
      "execution_count": 36,
      "outputs": [
        {
          "output_type": "execute_result",
          "data": {
            "text/plain": [
              "[<matplotlib.lines.Line2D at 0x7f68b3523bd0>,\n",
              " <matplotlib.lines.Line2D at 0x7f68b3477750>,\n",
              " <matplotlib.lines.Line2D at 0x7f68b3477910>]"
            ]
          },
          "metadata": {},
          "execution_count": 36
        },
        {
          "output_type": "display_data",
          "data": {
            "text/plain": [
              "<Figure size 432x288 with 1 Axes>"
            ],
            "image/png": "[encoded data removed]"
          },
          "metadata": {
            "needs_background": "light"
          }
        }
      ]
    },
    {
      "cell_type": "markdown",
      "source": [
        "### Manipulating DataFrames"
      ],
      "metadata": {
        "id": "0GzVfQqQ1TVH"
      }
    },
    {
      "cell_type": "code",
      "source": [
        "df = gme_table\n",
        "\n",
        "# Prints the close price of the first 5 records\n",
        "print(df.Close.head(5))\n",
        "\n",
        "# Prints the volume of the last 5 records\n",
        "print(df['Volume'].tail(5))"
      ],
      "metadata": {
        "colab": {
          "base_uri": "https://localhost:8080/"
        },
        "id": "ItRnUngk1P3W",
        "outputId": "fdcabfe0-0b37-49db-89b0-c201c13da359"
      },
      "execution_count": 38,
      "outputs": [
        {
          "output_type": "stream",
          "name": "stdout",
          "text": [
            "Date\n",
            "2020-01-02    6.31\n",
            "2020-01-03    5.88\n",
            "2020-01-06    5.85\n",
            "2020-01-07    5.52\n",
            "2020-01-08    5.72\n",
            "Name: Close, dtype: float64\n",
            "Date\n",
            "2022-03-09    1399600\n",
            "2022-03-10    1395500\n",
            "2022-03-11    2199400\n",
            "2022-03-14    4533600\n",
            "2022-03-15    3525100\n",
            "Name: Volume, dtype: int64\n"
          ]
        }
      ]
    },
    {
      "cell_type": "code",
      "source": [
        "# Get the dataframe of a specific date or date range\n",
        "gme_2021 = df[\"2020\":\"2021\"]\n",
        "\n",
        "# Get the records from the last day of each month\n",
        "gme_month = gme_2021.resample('M').agg(lambda x: x[-1])\n",
        "\n",
        "# Print specified columns of records of a date or date range\n",
        "print(gme_month.loc[\"2020-10\":\"2021-6\", [\"Open\", \"High\", \"Low\", \"Volume\", \"Close\"]])"
      ],
      "metadata": {
        "colab": {
          "base_uri": "https://localhost:8080/"
        },
        "id": "V7oreXOI27Dc",
        "outputId": "9c0ca7f9-d3a8-4b68-f417-aff3b0bf3493"
      },
      "execution_count": 48,
      "outputs": [
        {
          "output_type": "stream",
          "name": "stdout",
          "text": [
            "                  Open        High         Low    Volume       Close\n",
            "Date                                                                \n",
            "2020-10-31   11.640000   11.640000   10.360000  11546900   10.470000\n",
            "2020-11-30   18.170000   19.420000   16.559999  31983500   16.559999\n",
            "2020-12-31   19.250000   19.799999   18.799999   6922700   18.840000\n",
            "2021-01-31  379.709991  413.980011  250.000000  50566100  325.000000\n",
            "2021-02-28  117.459999  142.899994   86.000000  92194200  101.739998\n",
            "2021-03-31  197.500000  199.460007  187.110001   8393800  189.820007\n",
            "2021-04-30  175.000000  183.800003  172.699997   4433600  173.589996\n",
            "2021-05-31  262.970001  268.799988  221.429993  11751400  222.000000\n",
            "2021-06-30  209.690002  215.279999  206.940002   2539600  214.139999\n"
          ]
        }
      ]
    },
    {
      "cell_type": "code",
      "source": [
        "gme_bar = gme_table.loc[\"2020-10\":\"2021-6\", [\"Open\", \"High\", \"Low\", \"Volume\", \"Close\"]]\n",
        "# Percentage change of close price\n",
        "gme_bar['rate_return'] = gme_bar.Close.pct_change()\n",
        "print(gme_bar)"
      ],
      "metadata": {
        "colab": {
          "base_uri": "https://localhost:8080/"
        },
        "id": "ULxOzLpc7IbG",
        "outputId": "bec893df-298a-425f-f711-499b3ad27b87"
      },
      "execution_count": 78,
      "outputs": [
        {
          "output_type": "stream",
          "name": "stdout",
          "text": [
            "                  Open        High         Low    Volume       Close  \\\n",
            "Date                                                                   \n",
            "2020-10-01   10.090000   10.250000    9.690000   4554100    9.770000   \n",
            "2020-10-02    9.380000    9.780000    9.300000   4340500    9.390000   \n",
            "2020-10-05    9.440000    9.590000    9.250000   2805000    9.460000   \n",
            "2020-10-06    9.560000    9.840000    9.100000   4535400    9.130000   \n",
            "2020-10-07    9.230000    9.560000    9.170000   3308600    9.360000   \n",
            "...                ...         ...         ...       ...         ...   \n",
            "2021-06-24  221.160004  227.449997  211.600006   3863300  212.309998   \n",
            "2021-06-25  214.000000  214.199997  198.500000  12692700  209.509995   \n",
            "2021-06-28  211.250000  224.449997  210.199997   4879400  213.250000   \n",
            "2021-06-29  213.589996  215.220001  208.009995   2480000  210.880005   \n",
            "2021-06-30  209.690002  215.279999  206.940002   2539600  214.139999   \n",
            "\n",
            "            rate_return  \n",
            "Date                     \n",
            "2020-10-01          NaN  \n",
            "2020-10-02    -0.038895  \n",
            "2020-10-05     0.007455  \n",
            "2020-10-06    -0.034884  \n",
            "2020-10-07     0.025192  \n",
            "...                 ...  \n",
            "2021-06-24    -0.032051  \n",
            "2021-06-25    -0.013188  \n",
            "2021-06-28     0.017851  \n",
            "2021-06-29    -0.011114  \n",
            "2021-06-30     0.015459  \n",
            "\n",
            "[188 rows x 6 columns]\n"
          ]
        }
      ]
    },
    {
      "cell_type": "code",
      "source": [
        "# Get a dataframe that indicates null columns\n",
        "missing = gme_bar.isnull()\n",
        "\n",
        "# Print records with null rate return\n",
        "print(missing[missing.rate_return == True])"
      ],
      "metadata": {
        "colab": {
          "base_uri": "https://localhost:8080/"
        },
        "id": "f1pJvobE5sfV",
        "outputId": "0e8fe495-0360-4f1c-be9b-cd66c14ab6e0"
      },
      "execution_count": 66,
      "outputs": [
        {
          "output_type": "stream",
          "name": "stdout",
          "text": [
            "             Open   High    Low  Volume  Close  rate_return\n",
            "Date                                                       \n",
            "2020-10-01  False  False  False   False  False         True\n"
          ]
        }
      ]
    },
    {
      "cell_type": "code",
      "source": [
        "# Drop records with null columns\n",
        "drop = gme_bar.dropna()\n",
        "print(drop)"
      ],
      "metadata": {
        "colab": {
          "base_uri": "https://localhost:8080/"
        },
        "id": "gdKuPa0X7y5-",
        "outputId": "8f16a536-c262-49e9-92bf-5cbd5abd35bb"
      },
      "execution_count": 67,
      "outputs": [
        {
          "output_type": "stream",
          "name": "stdout",
          "text": [
            "                  Open        High         Low    Volume       Close  \\\n",
            "Date                                                                   \n",
            "2020-10-02    9.380000    9.780000    9.300000   4340500    9.390000   \n",
            "2020-10-05    9.440000    9.590000    9.250000   2805000    9.460000   \n",
            "2020-10-06    9.560000    9.840000    9.100000   4535400    9.130000   \n",
            "2020-10-07    9.230000    9.560000    9.170000   3308600    9.360000   \n",
            "2020-10-08    9.540000   13.640000    9.190000  76453600   13.490000   \n",
            "...                ...         ...         ...       ...         ...   \n",
            "2021-06-24  221.160004  227.449997  211.600006   3863300  212.309998   \n",
            "2021-06-25  214.000000  214.199997  198.500000  12692700  209.509995   \n",
            "2021-06-28  211.250000  224.449997  210.199997   4879400  213.250000   \n",
            "2021-06-29  213.589996  215.220001  208.009995   2480000  210.880005   \n",
            "2021-06-30  209.690002  215.279999  206.940002   2539600  214.139999   \n",
            "\n",
            "            rate_return  \n",
            "Date                     \n",
            "2020-10-02    -0.038895  \n",
            "2020-10-05     0.007455  \n",
            "2020-10-06    -0.034884  \n",
            "2020-10-07     0.025192  \n",
            "2020-10-08     0.441239  \n",
            "...                 ...  \n",
            "2021-06-24    -0.032051  \n",
            "2021-06-25    -0.013188  \n",
            "2021-06-28     0.017851  \n",
            "2021-06-29    -0.011114  \n",
            "2021-06-30     0.015459  \n",
            "\n",
            "[187 rows x 6 columns]\n"
          ]
        }
      ]
    },
    {
      "cell_type": "markdown",
      "source": [
        "### DataFrame Concat"
      ],
      "metadata": {
        "id": "DT0Pljjx9B84"
      }
    },
    {
      "cell_type": "code",
      "source": [
        "s1 = pd.Series([143.5, 144.09, 142.73, 144.18, 143.77], name = 'AAPL')\n",
        "s2 = pd.Series([898.7, 911.71, 906.69, 918.59, 926.99], name = 'GOOG')\n",
        "\n",
        "# Concat two dataframes by columns\n",
        "data_frame = pd.concat([s1,s2], axis = 1)\n",
        "print(data_frame)"
      ],
      "metadata": {
        "colab": {
          "base_uri": "https://localhost:8080/"
        },
        "id": "xRy0zojb9EhN",
        "outputId": "6a50cf2d-6614-4c5c-ee21-9d1ca5980ebd"
      },
      "execution_count": 68,
      "outputs": [
        {
          "output_type": "stream",
          "name": "stdout",
          "text": [
            "     AAPL    GOOG\n",
            "0  143.50  898.70\n",
            "1  144.09  911.71\n",
            "2  142.73  906.69\n",
            "3  144.18  918.59\n",
            "4  143.77  926.99\n"
          ]
        }
      ]
    },
    {
      "cell_type": "code",
      "source": [
        "log_price = np.log10(gme_bar.Close)\n",
        "log_price.name = 'log_price'\n",
        "print(log_price)\n",
        "print('\\n---------------------- separate line--------------------\\n')\n",
        "concat = pd.concat([gme_bar, log_price], axis = 1)\n",
        "print(concat)"
      ],
      "metadata": {
        "colab": {
          "base_uri": "https://localhost:8080/"
        },
        "id": "aQNfbbus_D_j",
        "outputId": "16d536c6-c79a-4949-8b3b-440c1c97018e"
      },
      "execution_count": 79,
      "outputs": [
        {
          "output_type": "stream",
          "name": "stdout",
          "text": [
            "Date\n",
            "2020-10-01    0.989895\n",
            "2020-10-02    0.972666\n",
            "2020-10-05    0.975891\n",
            "2020-10-06    0.960471\n",
            "2020-10-07    0.971276\n",
            "                ...   \n",
            "2021-06-24    2.326970\n",
            "2021-06-25    2.321205\n",
            "2021-06-28    2.328889\n",
            "2021-06-29    2.324035\n",
            "2021-06-30    2.330698\n",
            "Name: log_price, Length: 188, dtype: float64\n",
            "\n",
            "---------------------- separate line--------------------\n",
            "\n",
            "                  Open        High         Low    Volume       Close  \\\n",
            "Date                                                                   \n",
            "2020-10-01   10.090000   10.250000    9.690000   4554100    9.770000   \n",
            "2020-10-02    9.380000    9.780000    9.300000   4340500    9.390000   \n",
            "2020-10-05    9.440000    9.590000    9.250000   2805000    9.460000   \n",
            "2020-10-06    9.560000    9.840000    9.100000   4535400    9.130000   \n",
            "2020-10-07    9.230000    9.560000    9.170000   3308600    9.360000   \n",
            "...                ...         ...         ...       ...         ...   \n",
            "2021-06-24  221.160004  227.449997  211.600006   3863300  212.309998   \n",
            "2021-06-25  214.000000  214.199997  198.500000  12692700  209.509995   \n",
            "2021-06-28  211.250000  224.449997  210.199997   4879400  213.250000   \n",
            "2021-06-29  213.589996  215.220001  208.009995   2480000  210.880005   \n",
            "2021-06-30  209.690002  215.279999  206.940002   2539600  214.139999   \n",
            "\n",
            "            rate_return  log_price  \n",
            "Date                                \n",
            "2020-10-01          NaN   0.989895  \n",
            "2020-10-02    -0.038895   0.972666  \n",
            "2020-10-05     0.007455   0.975891  \n",
            "2020-10-06    -0.034884   0.960471  \n",
            "2020-10-07     0.025192   0.971276  \n",
            "...                 ...        ...  \n",
            "2021-06-24    -0.032051   2.326970  \n",
            "2021-06-25    -0.013188   2.321205  \n",
            "2021-06-28     0.017851   2.328889  \n",
            "2021-06-29    -0.011114   2.324035  \n",
            "2021-06-30     0.015459   2.330698  \n",
            "\n",
            "[188 rows x 7 columns]\n"
          ]
        }
      ]
    },
    {
      "cell_type": "code",
      "source": [
        "df_volume = gme_table.loc['2020-10':'2021-06',['Volume', 'Stock Splits']].resample('M').agg(lambda x: x[-1])\n",
        "print(df_volume)\n",
        "print('\\n---------------------- separate line--------------------\\n')\n",
        "df_2021 = aapl_table.loc['2020-10':'2021-06',['Open', 'High', 'Low', 'Close']].resample('M').agg(lambda x: x[-1])\n",
        "print(df_2021)"
      ],
      "metadata": {
        "colab": {
          "base_uri": "https://localhost:8080/"
        },
        "id": "LEvphLECAkH0",
        "outputId": "fa75e700-f8b2-4c86-87e2-64ffeb3ad166"
      },
      "execution_count": 80,
      "outputs": [
        {
          "output_type": "stream",
          "name": "stdout",
          "text": [
            "              Volume  Stock Splits\n",
            "Date                              \n",
            "2020-10-31  11546900             0\n",
            "2020-11-30  31983500             0\n",
            "2020-12-31   6922700             0\n",
            "2021-01-31  50566100             0\n",
            "2021-02-28  92194200             0\n",
            "2021-03-31   8393800             0\n",
            "2021-04-30   4433600             0\n",
            "2021-05-31  11751400             0\n",
            "2021-06-30   2539600             0\n",
            "\n",
            "---------------------- separate line--------------------\n",
            "\n",
            "                  Open        High         Low       Close\n",
            "Date                                                      \n",
            "2020-10-31  110.049214  110.970750  106.739616  107.869240\n",
            "2020-11-30  116.105401  120.075835  115.946581  118.170029\n",
            "2020-12-31  133.088938  133.744064  130.746382  131.709213\n",
            "2021-01-31  134.826009  135.729286  129.247554  130.984619\n",
            "2021-02-28  121.865692  124.112342  120.483906  120.543556\n",
            "2021-03-31  120.931246  122.790192  120.434200  121.428291\n",
            "2021-04-30  131.001390  132.770872  130.295593  130.683289\n",
            "2021-05-31  125.040108  125.269141  124.024415  124.084160\n",
            "2021-06-30  135.595375  136.830148  135.296638  136.382050\n"
          ]
        }
      ]
    },
    {
      "cell_type": "code",
      "source": [
        "concat = pd.concat([gme_bar, df_volume], axis = 1)\n",
        "print(concat)"
      ],
      "metadata": {
        "colab": {
          "base_uri": "https://localhost:8080/"
        },
        "id": "_7UohMIhBTTD",
        "outputId": "0e910a9b-191b-443f-a38d-e29016a1f008"
      },
      "execution_count": 81,
      "outputs": [
        {
          "output_type": "stream",
          "name": "stdout",
          "text": [
            "                  Open        High         Low      Volume       Close  \\\n",
            "Date                                                                     \n",
            "2020-10-01   10.090000   10.250000    9.690000   4554100.0    9.770000   \n",
            "2020-10-02    9.380000    9.780000    9.300000   4340500.0    9.390000   \n",
            "2020-10-05    9.440000    9.590000    9.250000   2805000.0    9.460000   \n",
            "2020-10-06    9.560000    9.840000    9.100000   4535400.0    9.130000   \n",
            "2020-10-07    9.230000    9.560000    9.170000   3308600.0    9.360000   \n",
            "...                ...         ...         ...         ...         ...   \n",
            "2021-06-24  221.160004  227.449997  211.600006   3863300.0  212.309998   \n",
            "2021-06-25  214.000000  214.199997  198.500000  12692700.0  209.509995   \n",
            "2021-06-28  211.250000  224.449997  210.199997   4879400.0  213.250000   \n",
            "2021-06-29  213.589996  215.220001  208.009995   2480000.0  210.880005   \n",
            "2021-06-30  209.690002  215.279999  206.940002   2539600.0  214.139999   \n",
            "\n",
            "            rate_return     Volume  Stock Splits  \n",
            "Date                                              \n",
            "2020-10-01          NaN        NaN           NaN  \n",
            "2020-10-02    -0.038895        NaN           NaN  \n",
            "2020-10-05     0.007455        NaN           NaN  \n",
            "2020-10-06    -0.034884        NaN           NaN  \n",
            "2020-10-07     0.025192        NaN           NaN  \n",
            "...                 ...        ...           ...  \n",
            "2021-06-24    -0.032051        NaN           NaN  \n",
            "2021-06-25    -0.013188        NaN           NaN  \n",
            "2021-06-28     0.017851        NaN           NaN  \n",
            "2021-06-29    -0.011114        NaN           NaN  \n",
            "2021-06-30     0.015459  2539600.0           0.0  \n",
            "\n",
            "[192 rows x 8 columns]\n"
          ]
        }
      ]
    },
    {
      "cell_type": "code",
      "source": [
        "# Inner join\n",
        "concat = pd.concat([gme_bar,df_volume],axis = 1, join = 'inner')\n",
        "print(concat)"
      ],
      "metadata": {
        "colab": {
          "base_uri": "https://localhost:8080/"
        },
        "id": "ynqEPMKABh1f",
        "outputId": "8d78483b-1f0f-401c-ce7f-870c5f3ab12f"
      },
      "execution_count": 82,
      "outputs": [
        {
          "output_type": "stream",
          "name": "stdout",
          "text": [
            "                  Open        High         Low    Volume       Close  \\\n",
            "Date                                                                   \n",
            "2020-11-30   18.170000   19.420000   16.559999  31983500   16.559999   \n",
            "2020-12-31   19.250000   19.799999   18.799999   6922700   18.840000   \n",
            "2021-03-31  197.500000  199.460007  187.110001   8393800  189.820007   \n",
            "2021-04-30  175.000000  183.800003  172.699997   4433600  173.589996   \n",
            "2021-06-30  209.690002  215.279999  206.940002   2539600  214.139999   \n",
            "\n",
            "            rate_return    Volume  Stock Splits  \n",
            "Date                                             \n",
            "2020-11-30     0.029851  31983500             0  \n",
            "2020-12-31    -0.021807   6922700             0  \n",
            "2021-03-31    -0.023861   8393800             0  \n",
            "2021-04-30    -0.014757   4433600             0  \n",
            "2021-06-30     0.015459   2539600             0  \n"
          ]
        }
      ]
    },
    {
      "cell_type": "code",
      "source": [
        "# Append one dataframe to another\n",
        "append = gme_bar.append(df_2021)\n",
        "print(append)"
      ],
      "metadata": {
        "colab": {
          "base_uri": "https://localhost:8080/"
        },
        "id": "CXIq8jmHCe-i",
        "outputId": "d97f5f4f-29f8-41b6-c50a-6c0595e833f2"
      },
      "execution_count": 85,
      "outputs": [
        {
          "output_type": "stream",
          "name": "stdout",
          "text": [
            "                  Open        High         Low     Volume       Close  \\\n",
            "Date                                                                    \n",
            "2020-10-01   10.090000   10.250000    9.690000  4554100.0    9.770000   \n",
            "2020-10-02    9.380000    9.780000    9.300000  4340500.0    9.390000   \n",
            "2020-10-05    9.440000    9.590000    9.250000  2805000.0    9.460000   \n",
            "2020-10-06    9.560000    9.840000    9.100000  4535400.0    9.130000   \n",
            "2020-10-07    9.230000    9.560000    9.170000  3308600.0    9.360000   \n",
            "...                ...         ...         ...        ...         ...   \n",
            "2021-02-28  121.865692  124.112342  120.483906        NaN  120.543556   \n",
            "2021-03-31  120.931246  122.790192  120.434200        NaN  121.428291   \n",
            "2021-04-30  131.001390  132.770872  130.295593        NaN  130.683289   \n",
            "2021-05-31  125.040108  125.269141  124.024415        NaN  124.084160   \n",
            "2021-06-30  135.595375  136.830148  135.296638        NaN  136.382050   \n",
            "\n",
            "            rate_return  \n",
            "Date                     \n",
            "2020-10-01          NaN  \n",
            "2020-10-02    -0.038895  \n",
            "2020-10-05     0.007455  \n",
            "2020-10-06    -0.034884  \n",
            "2020-10-07     0.025192  \n",
            "...                 ...  \n",
            "2021-02-28          NaN  \n",
            "2021-03-31          NaN  \n",
            "2021-04-30          NaN  \n",
            "2021-05-31          NaN  \n",
            "2021-06-30          NaN  \n",
            "\n",
            "[197 rows x 6 columns]\n"
          ]
        }
      ]
    }
  ]
}