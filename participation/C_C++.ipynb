{
  "nbformat": 4,
  "nbformat_minor": 0,
  "metadata": {
    "colab": {
      "name": "C_C++.ipynb",
      "provenance": [],
      "collapsed_sections": [],
      "authorship_tag": "ABX9TyM/uuaeWxX4v8EhPOYeHUGR",
      "include_colab_link": true
    },
    "kernelspec": {
      "name": "python3",
      "display_name": "Python 3"
    },
    "language_info": {
      "name": "python"
    }
  },
  "cells": [
    {
      "cell_type": "markdown",
      "metadata": {
        "id": "view-in-github",
        "colab_type": "text"
      },
      "source": [
        "<a href=\"https://colab.research.google.com/github/pablomancera/Algorithms/blob/main/participation/C_C%2B%2B.ipynb\" target=\"_parent\"><img src=\"https://colab.research.google.com/assets/colab-badge.svg\" alt=\"Open In Colab\"/></a>"
      ]
    },
    {
      "cell_type": "markdown",
      "source": [
        "# 16/03/2022"
      ],
      "metadata": {
        "id": "5P9QYrfjZdKU"
      }
    },
    {
      "cell_type": "code",
      "execution_count": null,
      "metadata": {
        "colab": {
          "base_uri": "https://localhost:8080/"
        },
        "id": "7ec5TpOccFAy",
        "outputId": "e2083c37-0f00-4fdd-fc62-8e6bfe14baaa"
      },
      "outputs": [
        {
          "output_type": "stream",
          "name": "stdout",
          "text": [
            "Overwriting test.c\n"
          ]
        }
      ],
      "source": [
        "%%writefile test.c\n",
        "\n",
        "#include <stdio.h>\n",
        "#include <math.h>\n",
        "\n",
        "#define INITIAL_TEMP 5\n",
        "#define FINAL_TEMP 40\n",
        "#define K 0.45\n",
        "\n",
        "double temp_variation(int time) {\n",
        "    double temp = FINAL_TEMP + (INITIAL_TEMP - FINAL_TEMP) * exp(-K * time) ;\n",
        "    return temp;\n",
        "}\n",
        "\n",
        "double get_time_temp_variation(double temp) {\n",
        "    double time = log((temp - FINAL_TEMP)/(INITIAL_TEMP - FINAL_TEMP))/-K;\n",
        "    return time;\n",
        "}\n",
        "\n",
        "int main() {\n",
        "    printf(\"temp variation for 1 = %f\\n\", temp_variation(1));\n",
        "    printf(\"temp variation for 5 = %f\\n\", temp_variation(5));\n",
        "    printf(\"temp variation for 12 = %f\\n\", temp_variation(12));\n",
        "    printf(\"temp variation for 14 = %f\\n\", temp_variation(14));\n",
        "\n",
        "    printf(\"\\n\\ntime for temp 20 - 0.5 = %f\", get_time_temp_variation(40-0.5));\n",
        "}"
      ]
    },
    {
      "cell_type": "code",
      "source": [
        "%%script bash\n",
        "\n",
        "gcc test.c -o test -lm\n",
        "./test"
      ],
      "metadata": {
        "colab": {
          "base_uri": "https://localhost:8080/"
        },
        "id": "fZxKBhSufygT",
        "outputId": "97bdde18-8938-48e4-e1d6-ccd45a41e284"
      },
      "execution_count": null,
      "outputs": [
        {
          "output_type": "stream",
          "name": "stdout",
          "text": [
            "temp variation for 1 = 17.683015\n",
            "temp variation for 5 = 36.311027\n",
            "temp variation for 12 = 39.841920\n",
            "temp variation for 14 = 39.935729\n",
            "\n",
            "\n",
            "time for temp 20 - 0.5 = 9.441101"
          ]
        }
      ]
    },
    {
      "cell_type": "code",
      "source": [
        "%%writefile test2.c\n",
        "\n",
        "#include <stdio.h>\n",
        "#include <stdlib.h>\n",
        "#include <math.h>\n",
        "\n",
        "void fibonacci(int n) {\n",
        "    int mem_alloc = n > 3 ? n : 3;\n",
        "    long *num = malloc(mem_alloc * sizeof(int));\n",
        "\n",
        "    num[0] = 0;\n",
        "    num[1] = 1;\n",
        "\n",
        "    for (int i = 2; i < n; i++) {\n",
        "        num[i] = num[i - 1] + num[i - 2];\n",
        "    }\n",
        "\n",
        "    printf(\"Fibonacci serie for number %d\", n);\n",
        "    printf(\" [\");\n",
        "    for (int i = 0; i < n; i++) {\n",
        "        printf(\"%ld\", num[i]);\n",
        "        if (i < n - 1) {\n",
        "            printf(\", \");\n",
        "        }\n",
        "    }\n",
        "    printf(\"]\\n\");\n",
        "\n",
        "    free(num);\n",
        "}\n",
        "\n",
        "int main() {\n",
        "  fibonacci(64);\n",
        "}"
      ],
      "metadata": {
        "colab": {
          "base_uri": "https://localhost:8080/"
        },
        "id": "7sfW_KE8zRKy",
        "outputId": "1bf688dd-84e5-49cf-aeb6-cb30848f91d7"
      },
      "execution_count": 21,
      "outputs": [
        {
          "output_type": "stream",
          "name": "stdout",
          "text": [
            "Overwriting test2.c\n"
          ]
        }
      ]
    },
    {
      "cell_type": "code",
      "source": [
        "%%script bash\n",
        "\n",
        "gcc test2.c -o test2 \n",
        "./test2"
      ],
      "metadata": {
        "colab": {
          "base_uri": "https://localhost:8080/"
        },
        "id": "erljYjFUzVuR",
        "outputId": "1dbb00b9-ca99-4dea-d05e-a274262b56df"
      },
      "execution_count": 22,
      "outputs": [
        {
          "output_type": "stream",
          "name": "stdout",
          "text": [
            "Fibonacci serie for number 64 [0, 1, 1, 2, 3, 5, 8, 13, 21, 34, 55, 89, 144, 233, 377, 610, 987, 1597, 2584, 4181, 6765, 10946, 17711, 28657, 46368, 75025, 121393, 196418, 317811, 514229, 832040, 1346269, 2178309, 3524578, 5702887, 9227465, 14930352, 24157817, 39088169, 63245986, 102334155, 165580141, 267914296, 433494437, 701408733, 1134903170, 1836311903, 2971215073, 4807526976, 7778742049, 12586269025, 20365011074, 32951280099, 53316291173, 86267571272, 139583862445, 225851433717, 365435296162, 591286729879, 956722026041, 1548008755920, 2504730781961, 4052739537881, 6557470319842]\n"
          ]
        }
      ]
    }
  ]
}